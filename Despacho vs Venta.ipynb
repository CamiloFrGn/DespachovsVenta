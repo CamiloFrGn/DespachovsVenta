{
 "cells": [
  {
   "cell_type": "code",
   "execution_count": 1,
   "metadata": {},
   "outputs": [],
   "source": [
    "#librerias\n",
    "import numpy as np\n",
    "import pandas as pd \n",
    "import matplotlib.pyplot as plt\n",
    "import seaborn as sns\n",
    "import modulo_conn_sql as mcq\n",
    "import sqlalchemy as sa\n",
    "import urllib\n",
    "\n",
    "#Query BD SQL-Server Cemex\n",
    "def querySQL(query, parametros):\n",
    "    #Conectar con base sql y ejecutar consulta\n",
    "    cursor = conectarSQL()\n",
    "    try:\n",
    "        cursor.execute(query, parametros)\n",
    "        #obtener nombre de columnas\n",
    "        names = [ x[0] for x in cursor.description]\n",
    "        \n",
    "        #Reunir todos los resultado en rows\n",
    "        rows = cursor.fetchall()\n",
    "        resultadoSQL = []\n",
    "            \n",
    "        #Hacer un array con los resultados\n",
    "        while rows:\n",
    "            resultadoSQL.append(rows)\n",
    "            if cursor.nextset():\n",
    "                rows = cursor.fetchall()\n",
    "            else:\n",
    "                rows = None\n",
    "                \n",
    "        #Redimensionar el array para que quede en dos dimensiones\n",
    "        resultadoSQL = np.array(resultadoSQL)\n",
    "        resultadoSQL = np.reshape(resultadoSQL, (resultadoSQL.shape[1], resultadoSQL.shape[2]) )\n",
    "    finally:\n",
    "            if cursor is not None:\n",
    "                cursor.close()\n",
    "    return pd.DataFrame(resultadoSQL, columns = names)\n",
    "\n",
    "#SQL Methods to get operation data\n",
    "def conectarSQL():\n",
    "    conn = mcq.ConexionSQL()\n",
    "    cursor = conn.getCursor()\n",
    "    return cursor"
   ]
  },
  {
   "cell_type": "code",
   "execution_count": 2,
   "metadata": {
    "scrolled": true
   },
   "outputs": [
    {
     "name": "stderr",
     "output_type": "stream",
     "text": [
      "<ipython-input-2-a74a17f1a023>:45: SettingWithCopyWarning: \n",
      "A value is trying to be set on a copy of a slice from a DataFrame.\n",
      "Try using .loc[row_indexer,col_indexer] = value instead\n",
      "\n",
      "See the caveats in the documentation: https://pandas.pydata.org/pandas-docs/stable/user_guide/indexing.html#returning-a-view-versus-a-copy\n",
      "  despacho_distinto_facturado['gap'] = despacho_distinto_facturado['Despachado'] - despacho_distinto_facturado['Venta']\n",
      "<ipython-input-2-a74a17f1a023>:74: SettingWithCopyWarning: \n",
      "A value is trying to be set on a copy of a slice from a DataFrame.\n",
      "Try using .loc[row_indexer,col_indexer] = value instead\n",
      "\n",
      "See the caveats in the documentation: https://pandas.pydata.org/pandas-docs/stable/user_guide/indexing.html#returning-a-view-versus-a-copy\n",
      "  despacho_distinto_facturado['Categoria'] = \"Despacho distinto a facturado\"\n"
     ]
    },
    {
     "data": {
      "text/html": [
       "<div>\n",
       "<style scoped>\n",
       "    .dataframe tbody tr th:only-of-type {\n",
       "        vertical-align: middle;\n",
       "    }\n",
       "\n",
       "    .dataframe tbody tr th {\n",
       "        vertical-align: top;\n",
       "    }\n",
       "\n",
       "    .dataframe thead th {\n",
       "        text-align: right;\n",
       "    }\n",
       "</style>\n",
       "<table border=\"1\" class=\"dataframe\">\n",
       "  <thead>\n",
       "    <tr style=\"text-align: right;\">\n",
       "      <th></th>\n",
       "      <th>Pais</th>\n",
       "      <th>Cluster</th>\n",
       "      <th>PlantaUnica</th>\n",
       "      <th>Pedido</th>\n",
       "      <th>FechaEntrega</th>\n",
       "      <th>Despachado</th>\n",
       "      <th>Venta</th>\n",
       "      <th>Categoria</th>\n",
       "      <th>Estatus</th>\n",
       "    </tr>\n",
       "  </thead>\n",
       "  <tbody>\n",
       "    <tr>\n",
       "      <th>0</th>\n",
       "      <td>Colombia</td>\n",
       "      <td>CLUSTER ANTIOQUIA</td>\n",
       "      <td>CO-PLANTA MEDELLIN</td>\n",
       "      <td>8012259742</td>\n",
       "      <td>2022-02-02</td>\n",
       "      <td>7.00</td>\n",
       "      <td>NaN</td>\n",
       "      <td>Despacho no facturado</td>\n",
       "      <td>NaN</td>\n",
       "    </tr>\n",
       "    <tr>\n",
       "      <th>1</th>\n",
       "      <td>Colombia</td>\n",
       "      <td>CLUSTER CENTRO</td>\n",
       "      <td>CO-PLANTA 240</td>\n",
       "      <td>8012280248</td>\n",
       "      <td>2022-02-02</td>\n",
       "      <td>8.50</td>\n",
       "      <td>NaN</td>\n",
       "      <td>Despacho no facturado</td>\n",
       "      <td>NaN</td>\n",
       "    </tr>\n",
       "    <tr>\n",
       "      <th>2</th>\n",
       "      <td>Colombia</td>\n",
       "      <td>CLUSTER COSTA</td>\n",
       "      <td>CO-PLANTA BARRANQUILLA</td>\n",
       "      <td>8012265070</td>\n",
       "      <td>2022-02-02</td>\n",
       "      <td>6.00</td>\n",
       "      <td>NaN</td>\n",
       "      <td>Despacho no facturado</td>\n",
       "      <td>NaN</td>\n",
       "    </tr>\n",
       "    <tr>\n",
       "      <th>3</th>\n",
       "      <td>Colombia</td>\n",
       "      <td>CLUSTER SANTANDER</td>\n",
       "      <td>CO-PLANTA FLORIDA</td>\n",
       "      <td>8012272138</td>\n",
       "      <td>2022-02-02</td>\n",
       "      <td>7.25</td>\n",
       "      <td>NaN</td>\n",
       "      <td>Despacho no facturado</td>\n",
       "      <td>NaN</td>\n",
       "    </tr>\n",
       "    <tr>\n",
       "      <th>4</th>\n",
       "      <td>Colombia</td>\n",
       "      <td>CLUSTER SURORIENTE</td>\n",
       "      <td>CO-PLANTA FUSA</td>\n",
       "      <td>8012370141</td>\n",
       "      <td>2022-02-23</td>\n",
       "      <td>4.00</td>\n",
       "      <td>NaN</td>\n",
       "      <td>Despacho no facturado</td>\n",
       "      <td>NaN</td>\n",
       "    </tr>\n",
       "    <tr>\n",
       "      <th>...</th>\n",
       "      <td>...</td>\n",
       "      <td>...</td>\n",
       "      <td>...</td>\n",
       "      <td>...</td>\n",
       "      <td>...</td>\n",
       "      <td>...</td>\n",
       "      <td>...</td>\n",
       "      <td>...</td>\n",
       "      <td>...</td>\n",
       "    </tr>\n",
       "    <tr>\n",
       "      <th>30</th>\n",
       "      <td>Colombia</td>\n",
       "      <td>CLUSTER CENTRO</td>\n",
       "      <td>CO-PLANTA CALLE 170</td>\n",
       "      <td>8012360524</td>\n",
       "      <td>2022-02-22</td>\n",
       "      <td>NaN</td>\n",
       "      <td>6.5</td>\n",
       "      <td>Facturado no despachado</td>\n",
       "      <td>Cancelado-Reusado</td>\n",
       "    </tr>\n",
       "    <tr>\n",
       "      <th>31</th>\n",
       "      <td>Colombia</td>\n",
       "      <td>CLUSTER CENTRO</td>\n",
       "      <td>CO-PLANTA SUR (DTE)</td>\n",
       "      <td>8012363044</td>\n",
       "      <td>2022-02-23</td>\n",
       "      <td>NaN</td>\n",
       "      <td>7.0</td>\n",
       "      <td>Facturado no despachado</td>\n",
       "      <td>Cancelado-Desperdicio</td>\n",
       "    </tr>\n",
       "    <tr>\n",
       "      <th>32</th>\n",
       "      <td>Colombia</td>\n",
       "      <td>CLUSTER CENTRO</td>\n",
       "      <td>CO-PLANTA 240</td>\n",
       "      <td>8012363498</td>\n",
       "      <td>2022-02-23</td>\n",
       "      <td>NaN</td>\n",
       "      <td>6.5</td>\n",
       "      <td>Facturado no despachado</td>\n",
       "      <td>Cancelado-Reusado</td>\n",
       "    </tr>\n",
       "    <tr>\n",
       "      <th>33</th>\n",
       "      <td>Colombia</td>\n",
       "      <td>CLUSTER CENTRO</td>\n",
       "      <td>CO-PLANTA CALLE 170</td>\n",
       "      <td>8012371447</td>\n",
       "      <td>2022-02-25</td>\n",
       "      <td>NaN</td>\n",
       "      <td>5.0</td>\n",
       "      <td>Facturado no despachado</td>\n",
       "      <td>Cancelado-Desperdicio</td>\n",
       "    </tr>\n",
       "    <tr>\n",
       "      <th>34</th>\n",
       "      <td>Colombia</td>\n",
       "      <td>CLUSTER CENTRO</td>\n",
       "      <td>CO-PLANTA SUR (DTE)</td>\n",
       "      <td>8012383699</td>\n",
       "      <td>2022-02-26</td>\n",
       "      <td>NaN</td>\n",
       "      <td>2.0</td>\n",
       "      <td>Facturado no despachado</td>\n",
       "      <td>Cancelado-Reusado</td>\n",
       "    </tr>\n",
       "  </tbody>\n",
       "</table>\n",
       "<p>75 rows × 9 columns</p>\n",
       "</div>"
      ],
      "text/plain": [
       "        Pais             Cluster             PlantaUnica      Pedido  \\\n",
       "0   Colombia   CLUSTER ANTIOQUIA      CO-PLANTA MEDELLIN  8012259742   \n",
       "1   Colombia      CLUSTER CENTRO           CO-PLANTA 240  8012280248   \n",
       "2   Colombia       CLUSTER COSTA  CO-PLANTA BARRANQUILLA  8012265070   \n",
       "3   Colombia   CLUSTER SANTANDER       CO-PLANTA FLORIDA  8012272138   \n",
       "4   Colombia  CLUSTER SURORIENTE          CO-PLANTA FUSA  8012370141   \n",
       "..       ...                 ...                     ...         ...   \n",
       "30  Colombia      CLUSTER CENTRO     CO-PLANTA CALLE 170  8012360524   \n",
       "31  Colombia      CLUSTER CENTRO     CO-PLANTA SUR (DTE)  8012363044   \n",
       "32  Colombia      CLUSTER CENTRO           CO-PLANTA 240  8012363498   \n",
       "33  Colombia      CLUSTER CENTRO     CO-PLANTA CALLE 170  8012371447   \n",
       "34  Colombia      CLUSTER CENTRO     CO-PLANTA SUR (DTE)  8012383699   \n",
       "\n",
       "   FechaEntrega  Despachado  Venta                Categoria  \\\n",
       "0    2022-02-02        7.00    NaN    Despacho no facturado   \n",
       "1    2022-02-02        8.50    NaN    Despacho no facturado   \n",
       "2    2022-02-02        6.00    NaN    Despacho no facturado   \n",
       "3    2022-02-02        7.25    NaN    Despacho no facturado   \n",
       "4    2022-02-23        4.00    NaN    Despacho no facturado   \n",
       "..          ...         ...    ...                      ...   \n",
       "30   2022-02-22         NaN    6.5  Facturado no despachado   \n",
       "31   2022-02-23         NaN    7.0  Facturado no despachado   \n",
       "32   2022-02-23         NaN    6.5  Facturado no despachado   \n",
       "33   2022-02-25         NaN    5.0  Facturado no despachado   \n",
       "34   2022-02-26         NaN    2.0  Facturado no despachado   \n",
       "\n",
       "                  Estatus  \n",
       "0                     NaN  \n",
       "1                     NaN  \n",
       "2                     NaN  \n",
       "3                     NaN  \n",
       "4                     NaN  \n",
       "..                    ...  \n",
       "30      Cancelado-Reusado  \n",
       "31  Cancelado-Desperdicio  \n",
       "32      Cancelado-Reusado  \n",
       "33  Cancelado-Desperdicio  \n",
       "34      Cancelado-Reusado  \n",
       "\n",
       "[75 rows x 9 columns]"
      ]
     },
     "execution_count": 2,
     "metadata": {},
     "output_type": "execute_result"
    }
   ],
   "source": [
    "pais = 'Colombia'\n",
    "\n",
    "#rangos de fecha\n",
    "inicio_historia = '2022-02-01'\n",
    "fin_historia = '2022-02-27'\n",
    "\n",
    "\n",
    "\n",
    "\n",
    "#informacion de la programacion\n",
    "df = querySQL( \"SELECT * FROM SCAC_AT2_condensadoservicio where FechaEntrega BETWEEN  ? AND  ? \" , (inicio_historia, fin_historia) )\n",
    "df['Posicion'] = df['Posicion'].astype(int)\n",
    "df['VolPartida'] = df['VolPartida'].astype(float)\n",
    "df['Pedido'] = df['Pedido'].str[:10]\n",
    "\n",
    "#agrego informacion geografica        \n",
    "nombre_cluster = querySQL( \"SELECT Pais, [Desc Cluster] as Cluster, [Planta Unica] as PlantaUnica, Centro FROM SCAC_AT1_NombreCluster where Pais = ?\" , (pais) )\n",
    "\n",
    "#INFORME DE VENTAS\n",
    "info_ventas = pd.read_excel('./datos/IV-2.xlsx')\n",
    "info_ventas['Documento Ventas'] = info_ventas['Documento Ventas'].astype(str)\n",
    "\n",
    "\n",
    "\n",
    "#Relaciono un pedido a una planta\n",
    "df1 = pd.merge(df[(df['Entrega'] != '') & (df['Estatus'] == 'Normal') & (df['Posicion'] < 3000) & (df['ClaseDocumento'] != 'UsoIntern')] , nombre_cluster, left_on='Planta', right_on='Centro', how = 'inner' )\n",
    "#df1 = pd.merge(df[(df['Entrega'] != '') & (df['Posicion'] < 3000) & (df['ClaseDocumento'] != 'UsoIntern')] , nombre_cluster, left_on='Planta', right_on='Centro', how = 'inner' )\n",
    "pedidos = df1.groupby(['Pais', 'Cluster', 'PlantaUnica', 'Pedido', 'FechaEntrega'])['VolPartida'].agg(['sum']).reset_index()\n",
    "pedidos['rank'] = pedidos.groupby('Pedido')['sum'].rank(ascending=False, method='first')\n",
    "pedidos = pedidos[pedidos['rank'] == 1]\n",
    "\n",
    "#obtengo la suma del volumen despachado de cada pedido (quito la posicion del bombeo para no duplicar volumen)\n",
    "pedidos_volumen = df1[df1['Posicion'] < 3000].groupby(['Pedido'])['VolPartida'].agg(['sum']).reset_index()\n",
    "\n",
    "#junto ambos dataframe para obtener el volumen del pedido junto con su informacion geografica\n",
    "lista_pedidos = pd.merge(pedidos, pedidos_volumen, on='Pedido').drop(['sum_x','rank'], axis = 1)\n",
    "\n",
    "#hago un left join entre el despacho y ventas para detectar cuales pedidos estan registrados como despachados pero no facturados\n",
    "df_final = pd.merge(lista_pedidos, info_ventas, left_on='Pedido', right_on='Documento Ventas', how='left').drop(['Documento Ventas'], axis=1)\n",
    "df_final.rename(columns={'sum_y': 'Despachado', 'Total': 'Venta'}, inplace = True)\n",
    "\n",
    "\n",
    "#despacho != facturado\n",
    "despacho_distinto_facturado = df_final[(df_final['Venta'] != df_final['Despachado']) & ( df_final['Venta'].notnull() ) ]\n",
    "despacho_distinto_facturado['gap'] = despacho_distinto_facturado['Despachado'] - despacho_distinto_facturado['Venta']\n",
    "\n",
    "\n",
    "#FACTURADO NO DESPACHADO\n",
    "#Relaciono un pedido a una planta\n",
    "df2 = pd.merge(df[(df['Estatus'] != 'Normal') & (df['Posicion'] < 3000) & (df['ClaseDocumento'] != 'UsoIntern')] , nombre_cluster, left_on='Planta', right_on='Centro', how = 'inner' )\n",
    "pedidos2 = df2.groupby(['Pais', 'Cluster', 'PlantaUnica', 'Pedido', 'FechaEntrega', 'Estatus'])['VolPartida'].agg(['sum']).reset_index()\n",
    "pedidos2['rank'] = pedidos2.groupby('Pedido')['sum'].rank(ascending=False, method='first')\n",
    "pedidos2 = pedidos2[pedidos2['rank'] == 1]\n",
    "\n",
    "#obtengo la suma del volumen despachado de cada pedido (quito la posicion del bombeo para no duplicar volumen)\n",
    "pedidos_volumen2 = df2[df2['Posicion'] < 3000].groupby(['Pedido'])['VolPartida'].agg(['sum']).reset_index()\n",
    "\n",
    "#junto ambos dataframe para obtener el volumen del pedido junto con su informacion geografica\n",
    "lista_pedidos2 = pd.merge(pedidos2, pedidos_volumen2, on='Pedido').drop(['sum_x','rank'], axis = 1)\n",
    "\n",
    "#hago un left join entre el despacho y ventas para detectar cuales pedidos estan registrados como facturados pero no despachados\n",
    "df_final2 = pd.merge(info_ventas[info_ventas['Total'] > 0], lista_pedidos[['Pedido']], right_on='Pedido', left_on='Documento Ventas', how='left')\n",
    "df_final2 = df_final2[df_final2['Pedido'].isnull()].drop(['Pedido'], axis=1)\n",
    "\n",
    "facturado_no_despachado = pd.merge( lista_pedidos2, df_final2, left_on='Pedido', right_on='Documento Ventas', how='right' ).drop(['Pedido','sum_y'], axis = 1)\n",
    "facturado_no_despachado.rename(columns={'Total':'Venta', 'Documento Ventas':'Pedido'}, inplace=True)\n",
    "facturado_no_despachado['Despachado'] = 0\n",
    "facturado_no_despachado['Categoria'] = \"Facturado no despachado\"\n",
    "facturado_no_despachado = facturado_no_despachado[['Pais','Cluster','PlantaUnica','Pedido', 'FechaEntrega','Venta','Categoria', 'Estatus']]\n",
    "\n",
    "\n",
    "#RESULTADO FINAL\n",
    "df_final['Categoria'] = \"Despacho no facturado\"\n",
    "despacho_distinto_facturado['Categoria'] = \"Despacho distinto a facturado\"\n",
    "df_sql = pd.concat([df_final[df_final['Venta'].isnull()], despacho_distinto_facturado[despacho_distinto_facturado['gap'] > 0]]).reset_index()\n",
    "df_sql = pd.concat([df_sql,facturado_no_despachado ])\n",
    "df_sql = df_sql.drop(['index','gap'], axis= 1)\n",
    "df_sql"
   ]
  },
  {
   "cell_type": "code",
   "execution_count": 6,
   "metadata": {},
   "outputs": [],
   "source": [
    "params = urllib.parse.quote_plus(\"DRIVER={ODBC Driver 17 for SQL Server};SERVER=USCLDBITVMP01;DATABASE=BI_Tableau;UID=usertableau;PWD=usertableau$\")\n",
    "engine = sa.create_engine(\"mssql+pyodbc:///?odbc_connect=%s\" % params)\n",
    "        \n",
    "df_sql.to_sql(\"SCAC_AT38_venta_vs_despacho\", engine, index=False, if_exists=\"replace\", schema=\"dbo\")\n",
    "        "
   ]
  },
  {
   "cell_type": "markdown",
   "metadata": {},
   "source": [
    "# Despachados -> No Facturados"
   ]
  },
  {
   "cell_type": "code",
   "execution_count": null,
   "metadata": {},
   "outputs": [],
   "source": [
    "df_final[df_final['Venta'].isnull()]"
   ]
  },
  {
   "cell_type": "code",
   "execution_count": null,
   "metadata": {},
   "outputs": [],
   "source": [
    "df_final[df_final['Venta'].isnull()]['Despachado'].sum()"
   ]
  },
  {
   "cell_type": "markdown",
   "metadata": {},
   "source": [
    "# Despachado != Facturado"
   ]
  },
  {
   "cell_type": "code",
   "execution_count": null,
   "metadata": {
    "scrolled": true
   },
   "outputs": [],
   "source": [
    "despacho_distinto_facturado.head(30)"
   ]
  },
  {
   "cell_type": "code",
   "execution_count": null,
   "metadata": {
    "scrolled": true
   },
   "outputs": [],
   "source": [
    "despacho_distinto_facturado[despacho_distinto_facturado['gap'] > 0]"
   ]
  },
  {
   "cell_type": "code",
   "execution_count": null,
   "metadata": {},
   "outputs": [],
   "source": [
    "despacho_distinto_facturado[despacho_distinto_facturado['gap'] > 0]['gap'].sum()"
   ]
  },
  {
   "cell_type": "markdown",
   "metadata": {},
   "source": [
    "# Facturado -> No despachado"
   ]
  },
  {
   "cell_type": "code",
   "execution_count": null,
   "metadata": {},
   "outputs": [],
   "source": [
    "df_final2['Total'].sum()"
   ]
  },
  {
   "cell_type": "code",
   "execution_count": null,
   "metadata": {
    "scrolled": true
   },
   "outputs": [],
   "source": [
    "facturado_no_despachado"
   ]
  },
  {
   "cell_type": "code",
   "execution_count": null,
   "metadata": {},
   "outputs": [],
   "source": [
    "facturado_no_despachado['Venta'].sum()"
   ]
  },
  {
   "cell_type": "markdown",
   "metadata": {},
   "source": [
    "# Facturas a favor del cliente (valores negativos)"
   ]
  },
  {
   "cell_type": "code",
   "execution_count": 7,
   "metadata": {},
   "outputs": [
    {
     "data": {
      "text/plain": [
       "-502.25"
      ]
     },
     "execution_count": 7,
     "metadata": {},
     "output_type": "execute_result"
    }
   ],
   "source": [
    "info_ventas[info_ventas['Total'] < 0]['Total'].sum()"
   ]
  },
  {
   "cell_type": "code",
   "execution_count": null,
   "metadata": {},
   "outputs": [],
   "source": []
  }
 ],
 "metadata": {
  "kernelspec": {
   "display_name": "Python 3",
   "language": "python",
   "name": "python3"
  },
  "language_info": {
   "codemirror_mode": {
    "name": "ipython",
    "version": 3
   },
   "file_extension": ".py",
   "mimetype": "text/x-python",
   "name": "python",
   "nbconvert_exporter": "python",
   "pygments_lexer": "ipython3",
   "version": "3.8.5"
  }
 },
 "nbformat": 4,
 "nbformat_minor": 4
}
